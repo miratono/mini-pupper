{
 "cells": [
  {
   "cell_type": "code",
   "execution_count": 1,
   "id": "67b33844",
   "metadata": {},
   "outputs": [
    {
     "name": "stderr",
     "output_type": "stream",
     "text": [
      "Failed to stop greengrass.service: Unit greengrass.service not loaded.\n",
      "Failed to disable unit: Unit file greengrass.service does not exist.\n",
      "rm: cannot remove '/etc/systemd/system/greengrass.service': No such file or directory\n"
     ]
    }
   ],
   "source": [
    "%%bash\n",
    "\n",
    "sudo systemctl stop greengrass.service\n",
    "sudo systemctl disable greengrass.service\n",
    "sudo rm /etc/systemd/system/greengrass.service\n",
    "sudo systemctl daemon-reload && sudo systemctl reset-failed\n",
    "sudo rm -rf /greengrass/v2"
   ]
  },
  {
   "cell_type": "markdown",
   "id": "285ed3ca",
   "metadata": {},
   "source": [
    "### Get the Greengrass software on the Pupper\n",
    "\n",
    "Download and unzip the Greengrass core software."
   ]
  },
  {
   "cell_type": "code",
   "execution_count": 2,
   "id": "80bb1dfa",
   "metadata": {},
   "outputs": [
    {
     "name": "stdout",
     "output_type": "stream",
     "text": [
      "downloading\n",
      "Archive:  greengrass-nucleus-latest.zip\n",
      "  inflating: GreengrassCore/META-INF/MANIFEST.MF  \n",
      "  inflating: GreengrassCore/META-INF/SIGNER.SF  \n",
      "  inflating: GreengrassCore/META-INF/SIGNER.RSA  \n",
      "  inflating: GreengrassCore/LICENSE  \n",
      "  inflating: GreengrassCore/NOTICE   \n",
      "  inflating: GreengrassCore/README.md  \n",
      "  inflating: GreengrassCore/THIRD-PARTY-LICENSES  \n",
      "  inflating: GreengrassCore/bin/greengrass.exe  \n",
      "  inflating: GreengrassCore/bin/greengrass.service.procd.template  \n",
      "  inflating: GreengrassCore/bin/greengrass.service.template  \n",
      "  inflating: GreengrassCore/bin/greengrass.xml.template  \n",
      "  inflating: GreengrassCore/bin/loader  \n",
      "  inflating: GreengrassCore/bin/loader.cmd  \n",
      "  inflating: GreengrassCore/conf/recipe.yaml  \n",
      "  inflating: GreengrassCore/lib/Greengrass.jar  \n",
      "done\n"
     ]
    }
   ],
   "source": [
    "!echo \"downloading\" && curl -s https://d2s8p88vqu9w66.cloudfront.net/releases/greengrass-nucleus-latest.zip > greengrass-nucleus-latest.zip && unzip -o greengrass-nucleus-latest.zip -d GreengrassCore && echo \"done\""
   ]
  },
  {
   "cell_type": "markdown",
   "id": "ec4e018d",
   "metadata": {},
   "source": [
    "### Get the CA Certificate\n",
    "\n",
    "Download the CA certificate."
   ]
  },
  {
   "cell_type": "code",
   "execution_count": 5,
   "id": "e06883b2",
   "metadata": {},
   "outputs": [
    {
     "name": "stdout",
     "output_type": "stream",
     "text": [
      "downloading ca certificate\n",
      "downloaded ca certificate\n"
     ]
    }
   ],
   "source": [
    "!echo \"downloading ca certificate\" && sudo curl -s https://www.amazontrust.com/repository/AmazonRootCA1.pem > AmazonRootCA1.pem && echo \"downloaded ca certificate\""
   ]
  },
  {
   "cell_type": "markdown",
   "id": "9799b0cb-a562-4325-a962-42b62f7d6331",
   "metadata": {},
   "source": [
    "### Register the Pupper with AWS using Greengrass\n",
    "Run the Greengrass provisioning command.\n",
    "You need to paste in your AWS credentials from the workshop authentication page or IAM user.\n",
    "Change aws-region, thing-name, and thing-group-name accordingly."
   ]
  },
  {
   "cell_type": "code",
   "execution_count": 2,
   "id": "8b03dcf9",
   "metadata": {},
   "outputs": [
    {
     "name": "stdout",
     "output_type": "stream",
     "text": [
      "Creating user ggc_user \n",
      "ggc_user created \n",
      "Creating group ggc_group \n",
      "ggc_group created \n",
      "Added ggc_user to ggc_group \n",
      "Provisioning AWS IoT resources for the device with IoT Thing Name: [mini-pupper-3]...\n",
      "Found IoT policy \"GreengrassV2IoTThingPolicy\", reusing it\n",
      "Creating keys and certificate...\n",
      "Attaching policy to certificate...\n",
      "Creating IoT Thing \"mini-pupper-3\"...\n",
      "Attaching certificate to IoT thing...\n",
      "Successfully provisioned AWS IoT resources for the device with IoT Thing Name: [mini-pupper-3]!\n",
      "Adding IoT Thing [mini-pupper-3] into Thing Group: [mini-pupper]...\n",
      "IoT Thing Group \"mini-pupper\" already existed, reusing it\n",
      "Successfully added Thing into Thing Group: [mini-pupper]\n",
      "Setting up resources for aws.greengrass.TokenExchangeService ... \n",
      "Attaching TES role policy to IoT thing...\n",
      "No managed IAM policy found, looking for user defined policy...\n",
      "IAM policy named \"GreengrassV2TokenExchangeRoleAccess\" already exists. Please attach it to the IAM role if not already\n",
      "Configuring Nucleus with provisioned resource details...\n",
      "Downloading CA from \"https://www.amazontrust.com/repository/AmazonRootCA1.pem\"\n",
      "Created device configuration\n",
      "Successfully configured Nucleus with provisioned resource details!\n",
      "Thing group exists, it could have existing deployment and devices, hence NOT creating deployment for Greengrass first party dev tools, please manually create a deployment if you wish to\n",
      "Successfully set up Nucleus as a system service\n"
     ]
    }
   ],
   "source": [
    "%%bash\n",
    "\n",
    "export AWS_ACCESS_KEY_ID=\"\"\n",
    "export AWS_SECRET_ACCESS_KEY=\"\"\n",
    "export AWS_SESSION_TOKEN=\"\n",
    "\"\n",
    "\n",
    "sudo -E java -Droot=\"/greengrass/v2\" -Dlog.store=FILE -jar ~/GreengrassCore/lib/Greengrass.jar \\\n",
    "--aws-region us-west-2 \\\n",
    "--thing-name mini-pupper-1 \\\n",
    "--thing-group-name mini-pupper \\\n",
    "--component-default-user ggc_user:ggc_group \\\n",
    "--provision true \\\n",
    "--setup-system-service true \\\n",
    "--deploy-dev-tools true"
   ]
  },
  {
   "cell_type": "markdown",
   "id": "125f67fa",
   "metadata": {},
   "source": [
    "### Empower ggc_user to make full use of the Pupper's systems\n",
    "\n",
    "Give the newly created ggc_user access to run docker applications and the i2c bus:"
   ]
  },
  {
   "cell_type": "code",
   "execution_count": 3,
   "id": "5f19d4cb",
   "metadata": {},
   "outputs": [
    {
     "name": "stdout",
     "output_type": "stream",
     "text": [
      "done\n"
     ]
    }
   ],
   "source": [
    "%%bash\n",
    "\n",
    "sudo usermod -aG docker ggc_user\n",
    "sudo usermod -aG i2c ggc_user\n",
    "sudo usermod -aG video ggc_user\n",
    "sudo setfacl --modify group:docker:rw /var/run/docker.sock\n",
    "echo \"done\""
   ]
  },
  {
   "cell_type": "markdown",
   "id": "0f7d4236",
   "metadata": {},
   "source": [
    "### Check the Pupper has appeared in the AWS Console\n",
    "\n",
    "In a new browser tab, open the Greengrass Console and click on Core Devices. You should see your new Greengrass application running!\n",
    "\n",
    "### Use the Greengrass CLI to see what the Pupper is capable of\n",
    "\n",
    "Note: The CLI deployment takes ~4 minutes, if you see errors here, wait a few minutes and try again.\n",
    "\n",
    "Run the following command to interact with the Greengrass CLI on the robot:"
   ]
  },
  {
   "cell_type": "code",
   "execution_count": 1,
   "id": "6c032bcb",
   "metadata": {},
   "outputs": [
    {
     "name": "stdout",
     "output_type": "stream",
     "text": [
      "Components currently running in Greengrass:\n",
      "Component Name: DeploymentService\n",
      "    Version: 0.0.0\n",
      " State: RUNNING\n",
      "    Configuration: null\n",
      "Component Name: FleetStatusService\n",
      "    Version: 0.0.0\n",
      "    State: RUNNING\n",
      "    Configuration: null\n",
      "Component Name: aws.greengrass.Nucleus\n",
      "    Version: 2.14.1\n",
      "ED  State: FINISH\n",
      "    Configuration: {\"awsRegion\":\"us-west-2\",\"componentStoreMaxSizeBytes\":\"10000000000\",\"deploymentPollingFrequencySeconds\":\"15\",\"envStage\":\"prod\",\"fipsMode\":\"false\",\"fleetStatus\":{\"periodicStatusPublishIntervalSeconds\":86400.0},\"greengrassDataPlaneEndpoint\":\"\",\"greengrassDataPlanePort\":\"8443\",\"httpClient\":{},\"iotCredEndpoint\":\"c2p23f7ik8hx6z.credentials.iot.us-west-2.amazonaws.com\",\"iotDataEndpoint\":\"a2bv3hsgw5zaxi-ats.iot.us-west-2.amazonaws.com\",\"iotRoleAlias\":\"GreengrassV2TokenExchangeRoleAlias\",\"jvmOptions\":\"-Dlog.store=FILE\",\"logging\":{},\"mqtt\":{\"spooler\":{}},\"networkProxy\":{\"proxy\":{}},\"platformOverride\":{},\"runWithDefault\":{\"posixShell\":\"sh\",\"posixUser\":\"ggc_user:ggc_group\"},\"s3EndpointType\":\"GLOBAL\",\"telemetry\":{}}\n",
      "Component Name: TelemetryAgent\n",
      "    Version: 0.0.0\n",
      "    State: RUNNING\n",
      "    Configuration: null\n",
      "ent Name: aws.greengrass.TokenExchangeService\n",
      "    Version: 2.0.3\n",
      "    State: RUNNING\n",
      "n: {\"activePort\":38615.0,\"port\":0.0}\n",
      "Component Name: aws.greengrass.Cli\n",
      "    Version: 2.14.1\n",
      "e: RUNNING\n",
      "    Configuration: {\"AuthorizedPosixGroups\":null,\"AuthorizedWindowsGroups\":null}\n",
      "t Name: UpdateSystemPolicyService\n",
      "    Version: 0.0.0\n",
      "    State: RUNNING\n",
      "    Configuration: null\n",
      "onent Name: aws.greengrass.DockerApplicationManager\n",
      "    Version: 2.0.13\n",
      "    State: RUNNING\n",
      "guration: {}\n"
     ]
    }
   ],
   "source": [
    "%%bash\n",
    "\n",
    "cd /greengrass/v2/bin\n",
    "sudo ./greengrass-cli component list"
   ]
  },
  {
   "cell_type": "markdown",
   "id": "9d3a582d",
   "metadata": {},
   "source": [
    "### Done!\n",
    "\n",
    "You can now return to the workshop documentation."
   ]
  }
 ],
 "metadata": {
  "kernelspec": {
   "display_name": "Python 3 (ipykernel)",
   "language": "python",
   "name": "python3"
  },
  "language_info": {
   "codemirror_mode": {
    "name": "ipython",
    "version": 3
   },
   "file_extension": ".py",
   "mimetype": "text/x-python",
   "name": "python",
   "nbconvert_exporter": "python",
   "pygments_lexer": "ipython3",
   "version": "3.10.12"
  }
 },
 "nbformat": 4,
 "nbformat_minor": 5
}
