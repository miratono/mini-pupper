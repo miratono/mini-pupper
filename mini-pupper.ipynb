{
 "cells": [
  {
   "cell_type": "code",
   "execution_count": null,
   "id": "67b33844",
   "metadata": {},
   "outputs": [],
   "source": [
    "%%bash\n",
    "\n",
    "sudo systemctl stop greengrass.service\n",
    "sudo systemctl disable greengrass.service\n",
    "sudo rm /etc/systemd/system/greengrass.service\n",
    "sudo systemctl daemon-reload && sudo systemctl reset-failed\n",
    "sudo rm -rf /greengrass/v2"
   ]
  },
  {
   "cell_type": "markdown",
   "id": "285ed3ca",
   "metadata": {},
   "source": [
    "### Get the Greengrass software on the Pupper\n",
    "\n",
    "Download and unzip the Greengrass core software."
   ]
  },
  {
   "cell_type": "code",
   "execution_count": null,
   "id": "80bb1dfa",
   "metadata": {},
   "outputs": [],
   "source": [
    "!echo \"downloading\" && curl -s https://d2s8p88vqu9w66.cloudfront.net/releases/greengrass-nucleus-latest.zip > greengrass-nucleus-latest.zip && unzip -o greengrass-nucleus-latest.zip -d GreengrassCore && echo \"done\""
   ]
  },
  {
   "cell_type": "markdown",
   "id": "ec4e018d",
   "metadata": {},
   "source": [
    "### Get the CA Certificate\n",
    "\n",
    "Download the CA certificate."
   ]
  },
  {
   "cell_type": "code",
   "execution_count": null,
   "id": "e06883b2",
   "metadata": {},
   "outputs": [],
   "source": [
    "!echo \"downloading ca certificate\" && sudo curl -s https://www.amazontrust.com/repository/AmazonRootCA1.pem > AmazonRootCA1.pem && echo \"downloaded ca certificate\""
   ]
  },
  {
   "cell_type": "markdown",
   "id": "9799b0cb-a562-4325-a962-42b62f7d6331",
   "metadata": {},
   "source": [
    "### Register the Pupper with AWS using Greengrass\n",
    "Run the Greengrass provisioning command.\n",
    "You need to paste in your AWS credentials from the workshop authentication page or IAM user.\n",
    "Change aws-region, thing-name, and thing-group-name accordingly."
   ]
  },
  {
   "cell_type": "code",
   "execution_count": null,
   "id": "8b03dcf9",
   "metadata": {},
   "outputs": [],
   "source": [
    "%%bash\n",
    "\n",
    "export AWS_ACCESS_KEY_ID=\"\"\n",
    "export AWS_SECRET_ACCESS_KEY=\"\"\n",
    "export AWS_SESSION_TOKEN=\"\n",
    "\"\n",
    "\n",
    "sudo -E java -Droot=\"/greengrass/v2\" -Dlog.store=FILE -jar ~/GreengrassCore/lib/Greengrass.jar \\\n",
    "--aws-region us-west-2 \\\n",
    "--thing-name mini-pupper-1 \\\n",
    "--thing-group-name mini-pupper \\\n",
    "--component-default-user ggc_user:ggc_group \\\n",
    "--provision true \\\n",
    "--setup-system-service true \\\n",
    "--deploy-dev-tools true"
   ]
  },
  {
   "cell_type": "markdown",
   "id": "125f67fa",
   "metadata": {},
   "source": [
    "### Empower ggc_user to make full use of the Pupper's systems\n",
    "\n",
    "Give the newly created ggc_user access to run docker applications and the i2c bus:"
   ]
  },
  {
   "cell_type": "code",
   "execution_count": null,
   "id": "5f19d4cb",
   "metadata": {},
   "outputs": [],
   "source": [
    "%%bash\n",
    "\n",
    "sudo usermod -aG docker ggc_user\n",
    "sudo usermod -aG i2c ggc_user\n",
    "sudo usermod -aG video ggc_user\n",
    "sudo setfacl --modify group:docker:rw /var/run/docker.sock\n",
    "echo \"done\""
   ]
  },
  {
   "cell_type": "markdown",
   "id": "0f7d4236",
   "metadata": {},
   "source": [
    "### Check the Pupper has appeared in the AWS Console\n",
    "\n",
    "In a new browser tab, open the Greengrass Console and click on Core Devices. You should see your new Greengrass application running!\n",
    "\n",
    "### Use the Greengrass CLI to see what the Pupper is capable of\n",
    "\n",
    "Note: The CLI deployment takes ~4 minutes, if you see errors here, wait a few minutes and try again.\n",
    "\n",
    "Run the following command to interact with the Greengrass CLI on the robot:"
   ]
  },
  {
   "cell_type": "code",
   "execution_count": null,
   "id": "6c032bcb",
   "metadata": {},
   "outputs": [],
   "source": [
    "%%bash\n",
    "\n",
    "cd /greengrass/v2/bin\n",
    "sudo ./greengrass-cli component list"
   ]
  },
  {
   "cell_type": "markdown",
   "id": "9d3a582d",
   "metadata": {},
   "source": [
    "### Done!\n",
    "\n",
    "You can now return to the workshop documentation."
   ]
  }
 ],
 "metadata": {
  "kernelspec": {
   "display_name": "Python 3 (ipykernel)",
   "language": "python",
   "name": "python3"
  },
  "language_info": {
   "codemirror_mode": {
    "name": "ipython",
    "version": 3
   },
   "file_extension": ".py",
   "mimetype": "text/x-python",
   "name": "python",
   "nbconvert_exporter": "python",
   "pygments_lexer": "ipython3",
   "version": "3.10.12"
  }
 },
 "nbformat": 4,
 "nbformat_minor": 5
}
